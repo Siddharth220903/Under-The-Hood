{
  "nbformat": 4,
  "nbformat_minor": 0,
  "metadata": {
    "colab": {
      "name": "UnderTheHood.ipynb",
      "provenance": [],
      "collapsed_sections": []
    },
    "kernelspec": {
      "name": "python3",
      "display_name": "Python 3"
    },
    "language_info": {
      "name": "python"
    }
  },
  "cells": [
    {
      "cell_type": "code",
      "source": [
        "import matplotlib.pyplot as plt\n",
        "import numpy as np\n",
        "import pandas as pd\n",
        "import scipy as sp"
      ],
      "metadata": {
        "id": "_egdIsrTpqT2"
      },
      "execution_count": 1,
      "outputs": []
    },
    {
      "cell_type": "code",
      "source": [
        "data = pd.read_csv('data (2).csv', header=None)"
      ],
      "metadata": {
        "id": "ufOSss4vpx6L"
      },
      "execution_count": 3,
      "outputs": []
    },
    {
      "cell_type": "code",
      "source": [
        "# Shuffle your dataset \n",
        "shuffle_data = data.sample(frac=1)\n",
        "\n",
        "# Define a size for your train set \n",
        "size_of_train = 0.7\n",
        "train_size = int(size_of_train * len(data))\n",
        "\n",
        "# Split your dataset \n",
        "train = shuffle_data[:train_size]\n",
        "test = shuffle_data[train_size:]"
      ],
      "metadata": {
        "id": "vRNLpMzyqiTB"
      },
      "execution_count": 4,
      "outputs": []
    },
    {
      "cell_type": "code",
      "source": [
        "def accuracy_metric(actual, predicted):\n",
        "\tcorrect = 0\n",
        "\tfor i in range(len(actual)):\n",
        "\t\tif actual[i] == predicted[i]:\n",
        "\t\t\tcorrect += 1\n",
        "\treturn correct / float(len(actual)) * 100.0\n",
        "\n",
        "def sigmoid(row, coeff):\n",
        "  yhat = coeff[0]\n",
        "\n",
        "  l = len(row)\n",
        "  for i in range(l-1):  \n",
        "    yhat += coeff[i+1]* row[i]\n",
        "  return 1.0/(1.0+np.exp(-yhat))\n",
        "\n",
        "def coeffs_gd(train, l_rate, epochs):\n",
        "  coef = [0.0 for i in range(len(train[0]))]\n",
        "  for epoch in range(epochs):\n",
        "    l = train.shape[0]\n",
        "    for i in range(l):\n",
        "      row = np.array(train[i:])\n",
        "      yhat = sigmoid(row, coef)\n",
        "      error = row[-1] - yhat\n",
        "      coef[0] = coef[0] + l_rate * error * yhat * (1.0 - yhat)\n",
        "      for i in range(len(row)-1):\n",
        "        coef[i + 1] = coef[i + 1] + l_rate * error * yhat * (1.0 - yhat) * row[i]\n",
        "      return coef\n",
        "\n",
        "def logistic_regression(train, test, l_rate, n_epoch):\n",
        "  prediction = []\n",
        "  coef = coeffs_gd(train,l_rate,n_epoch)\n",
        "  l = test.shape[0]\n",
        "  for i in range(l):\n",
        "    row = np.array(test[i:])\n",
        "    yhat = sigmoid(row,coef)\n",
        "    # print(yhat)\n",
        "    yhat = yhat > 0.5\n",
        "    prediction.append(yhat)\n",
        "  return prediction\n",
        "\n",
        "def driver_func(learning_rate, no_epoch):\n",
        "  train\n",
        "  test\n",
        "  out = []\n",
        "  predicted = logistic_regression(train, test, learning_rate,no_epoch)\n",
        "  Y = np.array(test[2])\n",
        "  return predicted"
      ],
      "metadata": {
        "id": "sWkwbNY9-F1C"
      },
      "execution_count": 82,
      "outputs": []
    },
    {
      "cell_type": "code",
      "source": [
        "learning_rate = 0.1\n",
        "no_epoch = 100\n",
        "output = driver_func(learning_rate, no_epoch)"
      ],
      "metadata": {
        "id": "w6OSV-XIwWb9"
      },
      "execution_count": 83,
      "outputs": []
    }
  ]
}